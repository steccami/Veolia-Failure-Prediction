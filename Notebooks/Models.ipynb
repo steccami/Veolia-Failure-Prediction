{
 "cells": [
  {
   "cell_type": "markdown",
   "metadata": {},
   "source": [
    "## Models used for training"
   ]
  },
  {
   "cell_type": "markdown",
   "metadata": {},
   "source": [
    "The goal of this notebook is to present few methods we used to predict pipe failure probabilities."
   ]
  },
  {
   "cell_type": "code",
   "execution_count": 20,
   "metadata": {
    "collapsed": false
   },
   "outputs": [],
   "source": [
    "import functions\n",
    "\n",
    "import pandas as pd\n",
    "import numpy as np\n",
    "import random\n",
    "\n",
    "import matplotlib.pyplot as plt\n",
    "import seaborn as sns\n",
    "\n",
    "from sklearn.model_selection import train_test_split\n",
    "from sklearn.metrics import roc_auc_score, log_loss,average_precision_score,roc_curve,precision_recall_curve\n",
    "from sklearn.linear_model import LogisticRegression\n",
    "from sklearn.mixture import GaussianMixture\n",
    "from imblearn.over_sampling import  SMOTE\n",
    "from sklearn.ensemble import AdaBoostClassifier"
   ]
  },
  {
   "cell_type": "code",
   "execution_count": 21,
   "metadata": {
    "collapsed": false
   },
   "outputs": [],
   "source": [
    "train,test,y_train=functions.load()"
   ]
  },
  {
   "cell_type": "code",
   "execution_count": 22,
   "metadata": {
    "collapsed": false
   },
   "outputs": [],
   "source": [
    "#Preprocessing and Feature engineering\n",
    "train=functions.feature_engineering(train)\n",
    "train=functions.preprocess(train)"
   ]
  },
  {
   "cell_type": "code",
   "execution_count": 37,
   "metadata": {
    "collapsed": false
   },
   "outputs": [],
   "source": [
    "#creating a train set, a cross validation set and a test set. (60%/20%/20%)\n",
    "#we use train_test_split method twice\n",
    "x, test, y, y_test = train_test_split(train,y_train,test_size=0.2,train_size=0.8)\n",
    "train, validate, y_train, y_validate = train_test_split(x,y,test_size = 0.25,train_size =0.75)"
   ]
  },
  {
   "cell_type": "markdown",
   "metadata": {},
   "source": [
    "## Simple Anomaly Detection Algorithm"
   ]
  },
  {
   "cell_type": "markdown",
   "metadata": {},
   "source": [
    "We use only the quantitative features, we fit mixtures of gaussian. We try to detect outliers that would fit the density estimated with gaussian mixtures. Here small probabilities should be assign to outliers, so we must take the complementary probability to detect outliers. "
   ]
  },
  {
   "cell_type": "code",
   "execution_count": 38,
   "metadata": {
    "collapsed": false
   },
   "outputs": [],
   "source": [
    "#lets seperate our risky pipes and our safe pipes\n",
    "\n",
    "quant_features=['Length',\"YearConstruction\"]\n",
    "train_quant=train[quant_features]\n",
    "validate_quant=validate[quant_features]\n",
    "\n",
    "index_fail=y_train.index[(y_train[\"2014\"]==1) | (y_train[\"2015\"]==1)].tolist()\n",
    "index_already_failed=train.index[train[\"NoFail\"]==0]\n",
    "\n",
    "index_safe=[x for x in y_train.index.tolist() if x not in (index_fail and index_already_failed)]"
   ]
  },
  {
   "cell_type": "code",
   "execution_count": 40,
   "metadata": {
    "collapsed": false
   },
   "outputs": [
    {
     "name": "stdout",
     "output_type": "stream",
     "text": [
      "ROC_AUC 2014=0.778\n",
      "ROC_AUC 2015=0.768\n"
     ]
    }
   ],
   "source": [
    "#we will try to fit the model only using the safe pipes, then small probabilities would be considered as outliers\n",
    "train_quant_safe=train_quant.loc[index_safe]\n",
    "y_train_safe=y_train.loc[index_safe]\n",
    "\n",
    "#2014\n",
    "model1=GaussianMixture(n_components=4,covariance_type='full',init_params=\"kmeans\")\n",
    "gmm=model1.fit(train_quant_safe,y_train_safe[\"2014\"])\n",
    "\n",
    "ypred_2014=model1.predict_proba(validate_quant)[:,1]\n",
    "#complementary probability.\n",
    "ypred_2014=1-ypred_2014\n",
    "\n",
    "model2=GaussianMixture(n_components=4,covariance_type='full')\n",
    "gmm=model2.fit(train_quant_safe,y_train_safe[\"2015\"])\n",
    "ypred_2015=model2.predict_proba(validate_quant)[:,1]\n",
    "#complementary probability.\n",
    "ypred_2015=1-ypred_2015\n",
    "\n",
    "print(\"ROC_AUC 2014={:.3}\".format(roc_auc_score(y_validate[\"2014\"],ypred_2014)))\n",
    "print(\"ROC_AUC 2015={:.3}\".format(roc_auc_score(y_validate[\"2015\"],ypred_2015)))"
   ]
  },
  {
   "cell_type": "markdown",
   "metadata": {},
   "source": [
    "Looks like our model is very unstable and depends a lot on the initialization. We tried to work more on this approach and at the end were getting a stable 80% ROC-AUC."
   ]
  },
  {
   "cell_type": "markdown",
   "metadata": {
    "collapsed": true
   },
   "source": [
    "## Naive Logistique Regression"
   ]
  },
  {
   "cell_type": "code",
   "execution_count": 41,
   "metadata": {
    "collapsed": false
   },
   "outputs": [
    {
     "name": "stdout",
     "output_type": "stream",
     "text": [
      "ROC_AUC= 0.87\n",
      "Average_precision_score=0.13\n"
     ]
    }
   ],
   "source": [
    "year=\"2014\"\n",
    "LR=LogisticRegression()\n",
    "LR.fit(train,y_train[year])\n",
    "y_pred=LR.predict_proba(validate)\n",
    "\n",
    "print(\"ROC_AUC= {:.3}\".format(roc_auc_score(y_validate[year],y_pred[:,1])))\n",
    "print(\"Average_precision_score={:.3}\".format(average_precision_score(y_validate[year],y_pred[:,1])))"
   ]
  },
  {
   "cell_type": "code",
   "execution_count": 42,
   "metadata": {
    "collapsed": false
   },
   "outputs": [
    {
     "data": {
      "image/png": "[encoded data removed]",
      "text/plain": [
       "<matplotlib.figure.Figure at 0x7f9191b3dc18>"
      ]
     },
     "metadata": {},
     "output_type": "display_data"
    }
   ],
   "source": [
    "#we can plot the ROC curve.\n",
    "fpr,tpr,roc_auc_d=functions.roc_plot_utils(y_pred,y_validate[year])\n",
    "\n",
    "plt.figure(figsize=(7,7));\n",
    "lw = 2\n",
    "plt.plot(fpr[0], tpr[0], color='blue',\n",
    "        lw=lw, label='ROC curve (area = %0.2f)' % roc_auc_d[0])\n",
    "plt.plot([0, 1], [0, 1], color='black', lw=lw, linestyle='--');\n",
    "plt.xlim([0.0, 1.0]);\n",
    "plt.ylim([0.0, 1.05]);\n",
    "plt.xlabel('False Positive Rate');\n",
    "plt.ylabel('True Positive Rate');\n",
    "plt.title('ROC');\n",
    "plt.legend(loc=\"lower right\")\n",
    "plt.show()"
   ]
  },
  {
   "cell_type": "code",
   "execution_count": 43,
   "metadata": {
    "collapsed": false
   },
   "outputs": [
    {
     "data": {
      "image/png": "[encoded data removed]",
      "text/plain": [
       "<matplotlib.figure.Figure at 0x7f9191b2e198>"
      ]
     },
     "metadata": {},
     "output_type": "display_data"
    }
   ],
   "source": [
    "precision, recall, _ = precision_recall_curve(y_validate[\"2014\"], ypred_2014)\n",
    "\n",
    "plt.step(recall, precision, color='b', alpha=0.2,\n",
    "         where='post')\n",
    "plt.fill_between(recall, precision, alpha=0.2,\n",
    "                 color='b')\n",
    "\n",
    "plt.xlabel('Recall')\n",
    "plt.ylabel('Precision')\n",
    "plt.ylim([0.0, 1.05])\n",
    "plt.xlim([0.0, 1.0])\n",
    "plt.title('Precision-Recall curve: AUC={0:0.2f}'.format(\n",
    "          average_precision_score(y_validate[\"2014\"], ypred_2014)))\n",
    "plt.show()"
   ]
  },
  {
   "cell_type": "markdown",
   "metadata": {},
   "source": [
    "Already a nice result with respect to ROC-AUC metric"
   ]
  },
  {
   "cell_type": "code",
   "execution_count": 44,
   "metadata": {
    "collapsed": false
   },
   "outputs": [
    {
     "name": "stdout",
     "output_type": "stream",
     "text": [
      "ROC_AUC= 0.9266043766904353\n"
     ]
    }
   ],
   "source": [
    "#we use the weight calculated in Exploratory Analysis.\n",
    "LR_balanced=LogisticRegression(class_weight={0:0.0027,1:0.9973})\n",
    "LR_balanced.fit(train,y_train[\"2014\"])\n",
    "y_pred=LR_balanced.predict_proba(validate)\n",
    "\n",
    "print(\"ROC_AUC= {}\".format(roc_auc_score(y_validate[\"2014\"],y_pred[:,1])))"
   ]
  },
  {
   "cell_type": "code",
   "execution_count": 45,
   "metadata": {
    "collapsed": false
   },
   "outputs": [
    {
     "data": {
      "image/png": "[encoded data removed]",
      "text/plain": [
       "<matplotlib.figure.Figure at 0x7f917ce9d710>"
      ]
     },
     "metadata": {},
     "output_type": "display_data"
    }
   ],
   "source": [
    "#ROC curve.\n",
    "fpr,tpr,roc_auc_d=functions.roc_plot_utils(y_pred,y_validate[year])\n",
    "\n",
    "plt.figure(figsize=(7,7));\n",
    "lw = 2\n",
    "plt.plot(fpr[0], tpr[0], color='blue',\n",
    "        lw=lw, label='ROC curve (area = %0.2f)' % roc_auc_d[0])\n",
    "plt.plot([0, 1], [0, 1], color='black', lw=lw, linestyle='--');\n",
    "plt.xlim([0.0, 1.0]);\n",
    "plt.ylim([0.0, 1.05]);\n",
    "plt.xlabel('False Positive Rate');\n",
    "plt.ylabel('True Positive Rate');\n",
    "plt.title('ROC');\n",
    "plt.legend(loc=\"lower right\")\n",
    "plt.show()"
   ]
  },
  {
   "cell_type": "code",
   "execution_count": 46,
   "metadata": {
    "collapsed": false
   },
   "outputs": [
    {
     "data": {
      "image/png": "[encoded data removed]",
      "text/plain": [
       "<matplotlib.figure.Figure at 0x7f9191bd3668>"
      ]
     },
     "metadata": {},
     "output_type": "display_data"
    }
   ],
   "source": [
    "precision, recall, _ = precision_recall_curve(y_validate[\"2014\"], ypred_2014)\n",
    "\n",
    "plt.step(recall, precision, color='b', alpha=0.2,\n",
    "         where='post')\n",
    "plt.fill_between(recall, precision, alpha=0.2,\n",
    "                 color='b')\n",
    "\n",
    "plt.xlabel('Recall')\n",
    "plt.ylabel('Precision')\n",
    "plt.ylim([0.0, 1.05])\n",
    "plt.xlim([0.0, 1.0])\n",
    "plt.title('Precision-Recall curve: AUC={0:0.2f}'.format(\n",
    "          average_precision_score(y_validate[\"2014\"], ypred_2014)))\n",
    "plt.show()"
   ]
  },
  {
   "cell_type": "markdown",
   "metadata": {},
   "source": [
    "We made a small improvement. We should do it more times using KFold strategy for example."
   ]
  },
  {
   "cell_type": "markdown",
   "metadata": {},
   "source": [
    "## Subsampling"
   ]
  },
  {
   "cell_type": "markdown",
   "metadata": {},
   "source": [
    "Before trying oversampling methods can we try some kind of subsampling ? We select mini-batch with balanced classes and update our weights iteratevely using logistic regression model."
   ]
  },
  {
   "cell_type": "code",
   "execution_count": 48,
   "metadata": {
    "collapsed": false
   },
   "outputs": [
    {
     "name": "stdout",
     "output_type": "stream",
     "text": [
      "(0)Train ROC_AUC: 0.894  Cross-Validation ROC_AUC: 0.9221\n",
      "   Train Log_Loss: 0.5687\n",
      "\n",
      "(1)Train ROC_AUC: 0.9073  Cross-Validation ROC_AUC: 0.9388\n",
      "   Train Log_Loss: 0.659\n",
      "\n",
      "(2)Train ROC_AUC: 0.9042  Cross-Validation ROC_AUC: 0.9254\n",
      "   Train Log_Loss: 0.6188\n",
      "\n",
      "(3)Train ROC_AUC: 0.8892  Cross-Validation ROC_AUC: 0.9162\n",
      "   Train Log_Loss: 0.6789\n",
      "\n"
     ]
    }
   ],
   "source": [
    "niter=400\n",
    "year=\"2014\"\n",
    "\n",
    "index_fail=y_train.index[(y_train[year]==1)].tolist()\n",
    "\n",
    "#warm_start=True to reuse coefficients of previous iteration.\n",
    "LR_sub=LogisticRegression(warm_start=True,solver=\"newton-cg\")\n",
    "\n",
    "\n",
    "#we will keep this indexes everytime in the minibatch.\n",
    "for i in range(niter):\n",
    "    index_safe_sample=random.sample([x for x in y_train.index.tolist() if x not in index_fail], len(index_fail))\n",
    "    mini_batch=index_fail+index_safe_sample\n",
    "    LR_sub.fit(train.loc[mini_batch],y_train.loc[mini_batch][year])\n",
    "    \n",
    "    if(i%100==0):\n",
    "        print(\"({})Train ROC_AUC: {:.4}\".format(int(i/100),roc_auc_score(y_train[year],LR_sub.predict_proba(train)[:,1])),\n",
    "              \" Cross-Validation ROC_AUC: {:.4}\\n\".format(roc_auc_score(y_validate[year],LR_sub.predict_proba(validate)[:,1])),\n",
    "             \"  Train Log_Loss: {:.4}\\n\".format(log_loss(y_train[year],LR_sub.predict_proba(train)[:,1])))"
   ]
  },
  {
   "cell_type": "markdown",
   "metadata": {},
   "source": [
    "Let's try oversampling methods. Smote is a good way to sample synthetise data and not just dupplicate minority class. "
   ]
  },
  {
   "cell_type": "markdown",
   "metadata": {},
   "source": [
    "## Oversampling with Smote"
   ]
  },
  {
   "cell_type": "code",
   "execution_count": 49,
   "metadata": {
    "collapsed": false
   },
   "outputs": [
    {
     "name": "stdout",
     "output_type": "stream",
     "text": [
      "ROC_AUC= 0.911\n",
      "ROC_AUC= 0.919\n",
      "Challenge Metric ROC_AUC= 0.914\n"
     ]
    }
   ],
   "source": [
    "year=\"2014\"\n",
    "\n",
    "sm = SMOTE(random_state=42)\n",
    "X_smote_year, y_smote_year= sm.fit_sample(train, y_train[year])\n",
    "\n",
    "LR=LogisticRegression()\n",
    "LR.fit(X_smote_year,y_smote_year)\n",
    "\n",
    "ypred_2014=LR.predict_proba(validate)[:,1]\n",
    "print(\"ROC_AUC= {:.3}\".format(roc_auc_score(y_validate[year],ypred_2014)))\n",
    "\n",
    "year=\"2015\"\n",
    "\n",
    "sm = SMOTE(random_state=42)\n",
    "X_smote_year, y_smote_year= sm.fit_sample(train, y_train[year])\n",
    "\n",
    "LR=LogisticRegression()\n",
    "LR.fit(X_smote_year,y_smote_year)\n",
    "\n",
    "ypred_2015=LR.predict_proba(validate)[:,1]\n",
    "print(\"ROC_AUC= {:.3}\".format(roc_auc_score(y_validate[year],ypred_2015)))\n",
    "\n",
    "yfinal=np.array([ypred_2014,ypred_2015]).T\n",
    "yfinal=pd.DataFrame(yfinal,columns=[\"2014\",\"2015\"])\n",
    "print(\"Challenge Metric ROC_AUC= {:.3}\".format(functions.metric_challenge(y_validate,yfinal)))"
   ]
  },
  {
   "cell_type": "code",
   "execution_count": 50,
   "metadata": {
    "collapsed": false
   },
   "outputs": [
    {
     "name": "stdout",
     "output_type": "stream",
     "text": [
      "ROC_AUC= 0.915\n",
      "ROC_AUC= 0.76\n",
      "Challenge Metric ROC_AUC= 0.853\n"
     ]
    }
   ],
   "source": [
    "#Adaboost: tries to put more weight on pipes that are harder to classify.\n",
    "\n",
    "year=\"2014\"\n",
    "\n",
    "sm = SMOTE(random_state=42)\n",
    "X_smote_year, y_smote_year= sm.fit_sample(train, y_train[year])\n",
    "\n",
    "adb2014=AdaBoostClassifier(n_estimators=14)\n",
    "adb2014.fit(X_smote_year,y_smote_year)\n",
    "\n",
    "ypred_2014=adb2014.predict_proba(validate)\n",
    "print(\"ROC_AUC= {:.3}\".format(roc_auc_score(y_validate[year],ypred_2014[:,1])))\n",
    "\n",
    "year=\"2015\"\n",
    "\n",
    "sm = SMOTE(random_state=42)\n",
    "X_smote_year, y_smote_year= sm.fit_sample(train, y_train[year])\n",
    "\n",
    "adb2015=AdaBoostClassifier(n_estimators=20)\n",
    "adb2015.fit(X_smote_year,y_smote_year)\n",
    "\n",
    "ypred_2015=adb2015.predict_proba(validate)\n",
    "print(\"ROC_AUC= {:.3}\".format(roc_auc_score(y_validate[year],ypred_2015[:,1])))\n",
    "\n",
    "yfinal=np.array([ypred_2014[:,1],ypred_2015[:,1]]).T\n",
    "yfinal=pd.DataFrame(yfinal,columns=[\"2014\",\"2015\"])\n",
    "print(\"Challenge Metric ROC_AUC= {:.3}\".format(functions.metric_challenge(y_validate,yfinal)))"
   ]
  },
  {
   "cell_type": "code",
   "execution_count": 54,
   "metadata": {
    "collapsed": false
   },
   "outputs": [
    {
     "name": "stdout",
     "output_type": "stream",
     "text": [
      "Feature ranking:\n",
      "1 D 0.357\n",
      "2 Length 0.214\n",
      "3 Feature3 0.143\n",
      "4 O 0.0714\n",
      "5 IAB 0.0714\n",
      "6 T 0.0714\n",
      "7 YearLastFailureObserved 0.0714\n",
      "8 NoFail 0.0\n",
      "9 M 0.0\n",
      "10 Dr 0.0\n",
      "11 TimeToFailure 0.0\n",
      "12 YearConstruction 0.0\n"
     ]
    },
    {
     "data": {
      "image/png": "[encoded data removed]",
      "text/plain": [
       "<matplotlib.figure.Figure at 0x7f917cf22eb8>"
      ]
     },
     "metadata": {},
     "output_type": "display_data"
    }
   ],
   "source": [
    "#Feature importance\n",
    "importances = adb2014.feature_importances_\n",
    "std = np.std([tree.feature_importances_ for tree in adb2014.estimators_],\n",
    "             axis=0)\n",
    "indices = np.argsort(importances)[::-1]\n",
    "\n",
    "col_name_dict=dict(zip(list(range(len(train.columns))),train.columns))\n",
    "# Print the feature ranking\n",
    "print(\"Feature ranking:\")\n",
    "\n",
    "for f in range(train.shape[1]):\n",
    "    print(\"{} {} {:.3}\".format(f + 1,col_name_dict[indices[f]], importances[indices[f]]),)\n",
    "\n",
    "# Plot the feature importances of the forest\n",
    "plt.figure()\n",
    "plt.title(\"Feature importances\")\n",
    "plt.bar(range(train.shape[1]), importances[indices],\n",
    "       color=\"r\", yerr=std[indices], align=\"center\")\n",
    "plt.xticks(range(train.shape[1]), indices)\n",
    "plt.xlim([-1, train.shape[1]])\n",
    "plt.show()"
   ]
  },
  {
   "cell_type": "markdown",
   "metadata": {},
   "source": [
    "We could drop features with 0.0 importance value to reduce overfitting."
   ]
  },
  {
   "cell_type": "markdown",
   "metadata": {},
   "source": [
    "## TEST"
   ]
  },
  {
   "cell_type": "code",
   "execution_count": 55,
   "metadata": {
    "collapsed": false
   },
   "outputs": [
    {
     "name": "stdout",
     "output_type": "stream",
     "text": [
      "ROC_AUC= 0.811\n",
      "ROC_AUC= 0.696\n",
      "Challenge Metric ROC_AUC= 0.765\n"
     ]
    }
   ],
   "source": [
    "#Test\n",
    "year=\"2014\"\n",
    "ypred_2014=adb2014.predict_proba(test)\n",
    "\n",
    "print(\"ROC_AUC= {:.3}\".format(roc_auc_score(y_test[year],ypred_2014[:,1])))\n",
    "\n",
    "year=\"2015\"\n",
    "ypred_2015=LR.predict_proba(test)\n",
    "print(\"ROC_AUC= {:.3}\".format(roc_auc_score(y_test[year],ypred_2015[:,1])))\n",
    "\n",
    "yfinal=np.array([ypred_2014[:,1],ypred_2015[:,1]]).T\n",
    "yfinal=pd.DataFrame(yfinal,columns=[\"2014\",\"2015\"])\n",
    "print(\"Challenge Metric ROC_AUC= {:.3}\".format(functions.metric_challenge(y_test,yfinal)))"
   ]
  },
  {
   "cell_type": "markdown",
   "metadata": {},
   "source": [
    "Our best prediction was obtain using ensemble learning and the VotingClassifier of sklearn. We already had a few classifiers that were performing well (in term of ROC-AUC) so we decided to combine them. It really improved our result."
   ]
  },
  {
   "cell_type": "markdown",
   "metadata": {},
   "source": [
    "## Submission part for LeaderBoard"
   ]
  },
  {
   "cell_type": "code",
   "execution_count": null,
   "metadata": {
    "collapsed": true
   },
   "outputs": [],
   "source": [
    "train,test,y_train=functions.load()\n",
    "#Preprocessing and Feature engineering Train\n",
    "train=functions.feature_engineering(train)\n",
    "train=functions.preprocess(train)\n",
    "\n",
    "#Preprocessing and Feature engineering Test\n",
    "test=functions.feature_engineering(test)\n",
    "test=functions.preprocess(test)"
   ]
  },
  {
   "cell_type": "code",
   "execution_count": null,
   "metadata": {
    "collapsed": false
   },
   "outputs": [],
   "source": [
    "#Training\n",
    "year=\"2014\"\n",
    "adb=AdaBoostClassifier(n_estimators=20)\n",
    "adb.fit(train,y_train[year])\n",
    "ysub2014=adb.predict_proba(test)[:,1]\n",
    "\n",
    "year=\"2015\"\n",
    "adb=AdaBoostClassifier(n_estimators=20)\n",
    "adb.fit(train,y_train[year])\n",
    "ysub2015=adb.predict_proba(test)[:,1]"
   ]
  },
  {
   "cell_type": "code",
   "execution_count": null,
   "metadata": {
    "collapsed": true
   },
   "outputs": [],
   "source": [
    "ysub=np.array([ysub2014,ysub2015]).T\n",
    "ysub=pd.DataFrame(ysub,columns=[\"2014\",\"2015\"])\n",
    "ysub.to_csv(\"smote_adaboost.csv\")"
   ]
  },
  {
   "cell_type": "code",
   "execution_count": null,
   "metadata": {
    "collapsed": true
   },
   "outputs": [],
   "source": []
  },
  {
   "cell_type": "code",
   "execution_count": null,
   "metadata": {
    "collapsed": false
   },
   "outputs": [],
   "source": []
  },
  {
   "cell_type": "code",
   "execution_count": null,
   "metadata": {
    "collapsed": false
   },
   "outputs": [],
   "source": []
  },
  {
   "cell_type": "code",
   "execution_count": null,
   "metadata": {
    "collapsed": false
   },
   "outputs": [],
   "source": []
  },
  {
   "cell_type": "code",
   "execution_count": null,
   "metadata": {
    "collapsed": true
   },
   "outputs": [],
   "source": []
  }
 ],
 "metadata": {
  "kernelspec": {
   "display_name": "Python 3",
   "language": "python",
   "name": "python3"
  },
  "language_info": {
   "codemirror_mode": {
    "name": "ipython",
    "version": 3
   },
   "file_extension": ".py",
   "mimetype": "text/x-python",
   "name": "python",
   "nbconvert_exporter": "python",
   "pygments_lexer": "ipython3",
   "version": "3.6.0"
  }
 },
 "nbformat": 4,
 "nbformat_minor": 2
}
